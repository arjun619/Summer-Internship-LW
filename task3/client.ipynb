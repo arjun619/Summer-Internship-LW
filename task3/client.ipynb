{
 "cells": [
  {
   "cell_type": "code",
   "execution_count": null,
   "metadata": {},
   "outputs": [
    {
     "name": "stdout",
     "output_type": "stream",
     "text": [
      "HOST IP: 192.168.0.200\n",
      "\n",
      "Socket Created\n",
      "\n",
      "\n",
      "Socket Bind Successfully\n",
      "\n",
      "\n",
      "LISTENING AT: ('192.168.99.1', 9999)\n",
      "\n",
      "Socket Accept\n",
      "\n",
      "GOT CONNECTION FROM: ('192.168.99.1', 52440)\n"
     ]
    }
   ],
   "source": [
    "import socket, cv2, pickle,struct\n",
    "\n",
    "\n",
    "server_socket = socket.socket(socket.AF_INET,socket.SOCK_STREAM)\n",
    "host_name  = socket.gethostname()\n",
    "host_ip = socket.gethostbyname(host_name)\n",
    "print('HOST IP:',host_ip)\n",
    "\n",
    "port = 9999\n",
    "socket_address = ('192.168.99.1',port)\n",
    "print(\"\\nSocket Created\\n\")\n",
    "\n",
    "\n",
    "server_socket.bind(socket_address)\n",
    "print(\"\\nSocket Bind Successfully\\n\")\n",
    "\n",
    "\n",
    "\n",
    "server_socket.listen(5)\n",
    "print(\"\\nLISTENING AT:\",socket_address)\n",
    "\n",
    "\n",
    "print(\"\\nSocket Accept\\n\")\n",
    "\n",
    "while True:\n",
    "    client_socket,addr = server_socket.accept()\n",
    "    print('GOT CONNECTION FROM:',addr)\n",
    "    if client_socket:\n",
    "        vid = cv2.VideoCapture(0)\n",
    "        \n",
    "        while(vid.isOpened()):\n",
    "            img,frame = vid.read()\n",
    "            a = pickle.dumps(frame)\n",
    "            message = struct.pack(\"Q\",len(a))+a\n",
    "            client_socket.sendall(message)\n",
    "            \n",
    "\t\t\n",
    "            cv2.imshow('TRANSMITTING VIDEO',frame)\n",
    "            key = cv2.waitKey(1) & 0xFF\n",
    "            if key ==ord('q'):\n",
    "                client_socket.close()"
   ]
  },
  {
   "cell_type": "code",
   "execution_count": null,
   "metadata": {},
   "outputs": [],
   "source": []
  }
 ],
 "metadata": {
  "kernelspec": {
   "display_name": "Python 3.7.3 64-bit",
   "language": "python",
   "name": "python37364bit74d7c0a35ba64c9492014d77dd63196c"
  },
  "language_info": {
   "codemirror_mode": {
    "name": "ipython",
    "version": 3
   },
   "file_extension": ".py",
   "mimetype": "text/x-python",
   "name": "python",
   "nbconvert_exporter": "python",
   "pygments_lexer": "ipython3",
   "version": "3.7.3"
  }
 },
 "nbformat": 4,
 "nbformat_minor": 4
}
